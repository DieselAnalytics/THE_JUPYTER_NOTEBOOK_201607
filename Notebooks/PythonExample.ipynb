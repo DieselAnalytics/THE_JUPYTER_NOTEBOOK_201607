{
 "cells": [
  {
   "cell_type": "markdown",
   "metadata": {},
   "source": [
    " <a id='top'></a>\n",
    "# Jupyter Notebooks *(Beyond the Basics)*"
   ]
  },
  {
   "cell_type": "markdown",
   "metadata": {},
   "source": [
    "### Abstract  \n",
    "    \n",
    "The Jupyter Notebook is a great tool to use for reproducible data analysis. This workbook illustrates some of the features in\n",
    "Jupyter Notebook that I have found very useful. In this workbook you will learn how to use line and cell magics, how to\n",
    "represent mathematical equations using LaTex, use an in memory SQLite database to leverage sql with-in the notebook, and lastly\n",
    "you will learn how to create interactive visualizations using *Bokeh* and interactive widgets."
   ]
  },
  {
   "cell_type": "markdown",
   "metadata": {},
   "source": [
    "### Table of Contents  \n",
    "  \n",
    "1.  [Packages used in Notebook](#packages) \n",
    "2.  [Line Magics](#magics)\n",
    "3.  [LaTex](#latex)      \n",
    "4.  [Using SQLite as an \"in memory\" database](#sqlite_in_memory)  \n",
    "5.  [Using SQLite as an \"on disk\" database](#sqlite_on_disk)  \n",
    "6.  [Creating Interactive Visualizations using Bokeh and IPython Widgets](#viz)\n",
    "7.  [References](#references)  \n",
    "                                "
   ]
  },
  {
   "cell_type": "markdown",
   "metadata": {},
   "source": [
    " <a id='packages'></a>\n",
    "### Packages used in Notebook"
   ]
  },
  {
   "cell_type": "code",
   "execution_count": null,
   "metadata": {
    "collapsed": false
   },
   "outputs": [],
   "source": [
    "import pandas as pd\n",
    "from bokeh.io import push_notebook, output_notebook, show\n",
    "from bokeh.charts import BoxPlot\n",
    "from ipywidgets import interact"
   ]
  },
  {
   "cell_type": "code",
   "execution_count": null,
   "metadata": {
    "collapsed": false
   },
   "outputs": [],
   "source": [
    "output_notebook()"
   ]
  },
  {
   "cell_type": "markdown",
   "metadata": {},
   "source": [
    "[Go to top](#top)"
   ]
  },
  {
   "cell_type": "markdown",
   "metadata": {},
   "source": [
    " <a id='magics'></a>\n",
    "### Line Magics"
   ]
  },
  {
   "cell_type": "code",
   "execution_count": null,
   "metadata": {
    "collapsed": false
   },
   "outputs": [],
   "source": [
    "#The following magic is used to change the current directory. Replace the comment below with a string that represents the\n",
    "#file path that contains the data that you downloaded from github.\n",
    "%cd #<a string that represents file path that contains the data#"
   ]
  },
  {
   "cell_type": "code",
   "execution_count": null,
   "metadata": {
    "collapsed": false
   },
   "outputs": [],
   "source": [
    "#Use this magic to get the current directory\n",
    "%pwd"
   ]
  },
  {
   "cell_type": "code",
   "execution_count": null,
   "metadata": {
    "collapsed": true
   },
   "outputs": [],
   "source": [
    "#Use this magic to create an alias for you current directory. This will allow you to reference the directory in \n",
    "#the future without having to write out the entire path\n",
    "%bookmark <alias>"
   ]
  },
  {
   "cell_type": "code",
   "execution_count": null,
   "metadata": {
    "collapsed": false
   },
   "outputs": [],
   "source": [
    "#This magic loads the SQL magic\n",
    "%load_ext sql"
   ]
  },
  {
   "cell_type": "code",
   "execution_count": null,
   "metadata": {
    "collapsed": true
   },
   "outputs": [],
   "source": [
    "#This is an example of using the config magic to modify the config file. Here we are modifying the config file to return \n",
    "#the results of a data set from a sql line magic to a panda data frame.\n",
    "%config SqlMagic.autopandas = True"
   ]
  },
  {
   "cell_type": "code",
   "execution_count": null,
   "metadata": {
    "collapsed": false
   },
   "outputs": [],
   "source": [
    "#%who, %who_ls, %whos\n",
    "var_int_1 = 1\n",
    "var_int_2 = 2\n",
    "var_str_1 = \"String One\"\n",
    "var_str_2 = \"String Two\"\n"
   ]
  },
  {
   "cell_type": "code",
   "execution_count": null,
   "metadata": {
    "collapsed": false
   },
   "outputs": [],
   "source": [
    "%who\n"
   ]
  },
  {
   "cell_type": "code",
   "execution_count": null,
   "metadata": {
    "collapsed": true
   },
   "outputs": [],
   "source": [
    "%who_ls"
   ]
  },
  {
   "cell_type": "code",
   "execution_count": null,
   "metadata": {
    "collapsed": true
   },
   "outputs": [],
   "source": [
    "%whos"
   ]
  },
  {
   "cell_type": "code",
   "execution_count": null,
   "metadata": {
    "collapsed": false
   },
   "outputs": [],
   "source": [
    "mylist"
   ]
  },
  {
   "cell_type": "markdown",
   "metadata": {},
   "source": [
    "[Go to top](#top)"
   ]
  },
  {
   "cell_type": "markdown",
   "metadata": {},
   "source": [
    " <a id='latex'></a>\n",
    "### LaTex Example"
   ]
  },
  {
   "cell_type": "markdown",
   "metadata": {},
   "source": [
    "The LaTex code below produces the cost function formula in the following cell:  \n",
    "\n",
    "    $J(\\theta) = \\frac{1}{2m} \\sum_{i=1}^m h_\\theta(x^{(i)} - y^{(i)})^2$"
   ]
  },
  {
   "cell_type": "markdown",
   "metadata": {
    "collapsed": true
   },
   "source": [
    "The formula for a linear cost function is: \n",
    "$J(\\theta) = \\frac{1}{2m} \\sum_{i=1}^m h_\\theta(x^{(i)} - y^{(i)})^2$"
   ]
  },
  {
   "cell_type": "code",
   "execution_count": null,
   "metadata": {
    "collapsed": true
   },
   "outputs": [],
   "source": [
    "#The following is an example of using the cell LaTex magic\n",
    "%%latex\n",
    "\n",
    "\\begin{align}\n",
    "\\Delta \\\\\n",
    "\\delta \\\\\n",
    "\\theta \\\\\n",
    "\\Theta \\\\\n",
    "\\end{align}\n"
   ]
  },
  {
   "cell_type": "markdown",
   "metadata": {},
   "source": [
    "[Go to top](#top)"
   ]
  },
  {
   "cell_type": "markdown",
   "metadata": {},
   "source": [
    " <a id='sqlite_in_memory'></a>\n",
    "### Using SQLite as an \"in memory\" database"
   ]
  },
  {
   "cell_type": "markdown",
   "metadata": {},
   "source": [
    "The following cells below gives an example of creating an \"in memory\" SQLite databse"
   ]
  },
  {
   "cell_type": "code",
   "execution_count": null,
   "metadata": {
    "collapsed": false
   },
   "outputs": [],
   "source": [
    "#Sql magic used to create an \"in memory\" SQLite database\n",
    "%sql sqlite://"
   ]
  },
  {
   "cell_type": "code",
   "execution_count": null,
   "metadata": {
    "collapsed": false
   },
   "outputs": [],
   "source": [
    "#Creating two data frames that will later be added to the database\n",
    "a = np.random.randint(low=1,high=20,size=(10,3))\n",
    "b = np.random.randint(low=1,high=20,size=(10,3))\n",
    "\n",
    "dfa = pd.DataFrame(a,columns=[\"a\",\"b\",\"c\"])\n",
    "dfb = pd.DataFrame(a,columns=[\"d\",\"e\",\"f\"])"
   ]
  },
  {
   "cell_type": "code",
   "execution_count": null,
   "metadata": {
    "collapsed": false
   },
   "outputs": [],
   "source": [
    "#Sql line magics used to add the data frames as table in the \"in memory\" database\n",
    "%sql PERSIST dfa\n",
    "%sql PERSIST dfb"
   ]
  },
  {
   "cell_type": "code",
   "execution_count": null,
   "metadata": {
    "collapsed": true
   },
   "outputs": [],
   "source": [
    "#Cell magic example of querying table dfa in the \"in memory\" database\n",
    "%%sql\n",
    "\n",
    "select * \n",
    "from dfa \n",
    "limit 6 "
   ]
  },
  {
   "cell_type": "code",
   "execution_count": null,
   "metadata": {
    "collapsed": false
   },
   "outputs": [],
   "source": [
    "#Cell magic example of querying table dfb in the \"in memory\" database\n",
    "%%sql\n",
    "\n",
    "select * \n",
    "from dfb \n",
    "limit 6 "
   ]
  },
  {
   "cell_type": "markdown",
   "metadata": {},
   "source": [
    "[Go to top](#top)"
   ]
  },
  {
   "cell_type": "markdown",
   "metadata": {},
   "source": [
    " <a id='sqlite_on_disk'></a>\n",
    "### Using SQLite as an \"on disk\" database"
   ]
  },
  {
   "cell_type": "markdown",
   "metadata": {
    "collapsed": false
   },
   "source": [
    "The code below provide an example of using an \"on disk\" SQLite database. Mak sure that your current directory is set to \n",
    "the data folder that has your SQLite database"
   ]
  },
  {
   "cell_type": "code",
   "execution_count": null,
   "metadata": {
    "collapsed": false
   },
   "outputs": [],
   "source": [
    "#Using a sql line magic to connect to the SQLite database\n",
    "%sql sqlite:///NBADB.sqlite"
   ]
  },
  {
   "cell_type": "code",
   "execution_count": null,
   "metadata": {
    "collapsed": false
   },
   "outputs": [],
   "source": [
    "#Example sql statement\n",
    "%sql select count(*) as row_count from game_data"
   ]
  },
  {
   "cell_type": "code",
   "execution_count": null,
   "metadata": {
    "collapsed": false
   },
   "outputs": [],
   "source": [
    "#Example sql cell magic\n",
    "%%sql\n",
    "SELECT game_date, hti.division as home_team_division, ati.division as away_team_division, home_team, away_team, \n",
    "sum(home_team_points) as home_team_points, sum(away_team_points) as away_team_points\n",
    "FROM game_data as gd \n",
    "INNER JOIN team_info as hti ON gd.home_team = hti.team\n",
    "INNER JOIN team_info as ati ON gd.away_team = ati.team\n",
    "GROUP BY game_date, hti.division, ati.division, home_team, away_team\n",
    "LIMIT 5"
   ]
  },
  {
   "cell_type": "code",
   "execution_count": null,
   "metadata": {
    "collapsed": false
   },
   "outputs": [],
   "source": [
    "#Example using the sql line magic to retun the results of the query to a pandas data frame. Make sure you used the \n",
    "#config magic shown in the \"magics\" section to enable this feature\n",
    "game_data = %sql SELECT game_date, hti.division as home_team_division, ati.division as away_team_division, home_team, away_team, sum(home_team_points) as home_team_points, sum(away_team_points) as away_team_points FROM game_data as gd  INNER JOIN team_info as hti ON gd.home_team = hti.team INNER JOIN team_info as ati ON gd.away_team = ati.team GROUP BY game_date, hti.division, ati.division, home_team, away_team"
   ]
  },
  {
   "cell_type": "code",
   "execution_count": null,
   "metadata": {
    "collapsed": false
   },
   "outputs": [],
   "source": [
    "type(game_data)"
   ]
  },
  {
   "cell_type": "markdown",
   "metadata": {},
   "source": [
    "[Go to top](#top)"
   ]
  },
  {
   "cell_type": "markdown",
   "metadata": {},
   "source": [
    " <a id='viz'></a>\n",
    "### Creating Interactive Visualizations using Bokeh and IPython Widgets"
   ]
  },
  {
   "cell_type": "code",
   "execution_count": null,
   "metadata": {
    "collapsed": false
   },
   "outputs": [],
   "source": [
    "#creating a pandas data frame with the team data information\n",
    "team_data = %sql select * from team_info"
   ]
  },
  {
   "cell_type": "code",
   "execution_count": null,
   "metadata": {
    "collapsed": true
   },
   "outputs": [],
   "source": [
    "#Dictionary that will be used to populate the hometeam combo box. The \"key\" will be what is displayed and the \"value\" will\n",
    "#be what is returned.\n",
    "team = {\"Celtics\":\"BOS\",\"76ers\":\"PHI\",\"Nets\":\"NJN\",\"Raptors\":\"TOR\",\"Knicks\":\"NYK\",\"Cavaliers\":\"CLE\",\"Bulls\":\"CHI\",\n",
    "         \"Pistons\":\"DET\",\"Pacers\":\"IND\",\"Bucks\":\"MIL\",\"Magic\":\"ORL\",\"Hawks\":\"ATL\",\"Heat\":\"MIA\",\"Hornets\":\"CHA\",\"Wizards\":\"WAS\",\n",
    "         \"Nuggets\":\"DEN\",\"Trail Blazers\":\"POR\",\"Jazz\":\"UTA\",\"Timberwolves\":\"MIN\",\"Thunder\":\"OKC\",\"Lakers\":\"LAL\",\"Suns\":\"PHX\",\n",
    "         \"Warriors\":\"GSW\",\"Clippers\":\"LAC\",\"Kings\":\"SAC\",\"Spurs\":\"SAS\",\"Rockets\":\"HOU\",\"Mavericks\":\"DAL\",\"Pelicans\":\"NOH\",\n",
    "         \"Grizzlies\":\"MEM\"}\n"
   ]
  },
  {
   "cell_type": "code",
   "execution_count": null,
   "metadata": {
    "collapsed": true
   },
   "outputs": [],
   "source": [
    "data = game_data"
   ]
  },
  {
   "cell_type": "code",
   "execution_count": null,
   "metadata": {
    "collapsed": false
   },
   "outputs": [],
   "source": [
    "#Code used to produce a \"BoxPlot\" bokeh chart\n",
    "graph_title = \"Title\"\n",
    "p = BoxPlot(data, values='home_team_points', label='away_team_division', title=graph_title, color='away_team_division', \n",
    "            legend = False)"
   ]
  },
  {
   "cell_type": "code",
   "execution_count": null,
   "metadata": {
    "collapsed": false
   },
   "outputs": [],
   "source": [
    "#Udpate function used to update the chart based on the combo box selection\n",
    "def update_graph_data(home_team):\n",
    "    data = game_data.loc[game_data.home_team==home_team]\n",
    "    graph_title = home_team\n",
    "    p = BoxPlot(data, values='home_team_points', label='away_team_division', title=graph_title, color='away_team_division', legend = False)\n",
    "    push_notebook()\n",
    "    show(p)\n",
    "    \n",
    "\n"
   ]
  },
  {
   "cell_type": "code",
   "execution_count": null,
   "metadata": {
    "collapsed": false
   },
   "outputs": [],
   "source": [
    "#Function used to create the combo box that interacts with the function above to create an interactive visualization\n",
    "interact(update_graph_data, home_team=team)"
   ]
  },
  {
   "cell_type": "markdown",
   "metadata": {},
   "source": [
    "[Go to top](#top)"
   ]
  },
  {
   "cell_type": "markdown",
   "metadata": {},
   "source": [
    " <a id='references'></a>\n",
    "### References"
   ]
  },
  {
   "cell_type": "markdown",
   "metadata": {
    "collapsed": true
   },
   "source": [
    "**SQLite**\n",
    "- www.sqlite.org\n",
    "\n",
    "\n",
    "**Magics**\n",
    "- https://ipython.org/ipython-doc/3/interactive/magics.html\n",
    "\n",
    "    \n",
    "**IPython Widgets\n",
    "- http://ipywidgets.readthedocs.io/en/latest/examples/Using%20Interact.html\n",
    "    \n",
    "\n",
    "**Bokeh**\n",
    "- http://bokeh.pydata.org/en/latest/\n",
    "\n",
    "\n",
    "**LaTex**\n",
    "- https://en.wikibooks.org/wiki/LaTeX\n",
    "\n",
    "    \n",
    "**Blogs and Podcasts**\n",
    "- http://www.becomingadatascientist.com/\n",
    "- https://talkpython.fm/\n",
    "- http://planetpython.org/"
   ]
  },
  {
   "cell_type": "markdown",
   "metadata": {},
   "source": [
    "[Go to top](#top)"
   ]
  },
  {
   "cell_type": "code",
   "execution_count": null,
   "metadata": {
    "collapsed": false
   },
   "outputs": [],
   "source": [
    "show(p)"
   ]
  },
  {
   "cell_type": "code",
   "execution_count": null,
   "metadata": {
    "collapsed": true
   },
   "outputs": [],
   "source": []
  },
  {
   "cell_type": "code",
   "execution_count": null,
   "metadata": {
    "collapsed": true
   },
   "outputs": [],
   "source": []
  },
  {
   "cell_type": "code",
   "execution_count": null,
   "metadata": {
    "collapsed": true
   },
   "outputs": [],
   "source": []
  }
 ],
 "metadata": {
  "kernelspec": {
   "display_name": "Python 3",
   "language": "python",
   "name": "python3"
  },
  "language_info": {
   "codemirror_mode": {
    "name": "ipython",
    "version": 3
   },
   "file_extension": ".py",
   "mimetype": "text/x-python",
   "name": "python",
   "nbconvert_exporter": "python",
   "pygments_lexer": "ipython3",
   "version": "3.5.2"
  }
 },
 "nbformat": 4,
 "nbformat_minor": 0
}
